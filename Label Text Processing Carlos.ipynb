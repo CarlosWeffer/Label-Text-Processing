{
 "cells": [
  {
   "cell_type": "code",
   "execution_count": 48,
   "metadata": {},
   "outputs": [],
   "source": [
    "import pandas as pd\n",
    "import numpy as np\n",
    "import matplotlib.pyplot as plt\n",
    "\n",
    "import warnings\n",
    "warnings.filterwarnings('ignore')\n",
    "\n",
    "%matplotlib inline"
   ]
  },
  {
   "cell_type": "code",
   "execution_count": 49,
   "metadata": {},
   "outputs": [
    {
     "data": {
      "text/plain": [
       "'Boneless Lamb Product of Australia L Leg-Chump On-Shank Off IW/VAC Slaughter Date: 09 Jul 2024 Packed On: 10 Jul 2024 Best Before: 09 Jul 2026 Keep Frozen Pieces 5 13.28 Kg Net Weight Australia 686 Inspected'"
      ]
     },
     "execution_count": 49,
     "metadata": {},
     "output_type": "execute_result"
    }
   ],
   "source": [
    "file_path = \"label_data/label_text_Adrian.csv\"\n",
    "df = pd.read_csv(file_path, header = None)\n",
    "df[0][0]"
   ]
  },
  {
   "cell_type": "code",
   "execution_count": 50,
   "metadata": {},
   "outputs": [],
   "source": [
    "import spacy\n",
    "import csv\n",
    "\n",
    "# Function to download the SpaCy model if not present\n",
    "def download_spacy_model(model_name):\n",
    "    try:\n",
    "        nlp = spacy.load(model_name)\n",
    "    except OSError:\n",
    "        from spacy.cli import download\n",
    "        download(model_name)\n",
    "        nlp = spacy.load(model_name)\n",
    "    return nlp\n",
    "\n",
    "# Load SpaCy model\n",
    "nlp = download_spacy_model(\"en_core_web_sm\")"
   ]
  },
  {
   "cell_type": "code",
   "execution_count": 51,
   "metadata": {},
   "outputs": [
    {
     "name": "stdout",
     "output_type": "stream",
     "text": [
      "Information extraction completed.\n"
     ]
    }
   ],
   "source": [
    "# Load SpaCy model\n",
    "nlp = spacy.load(\"en_core_web_sm\")\n",
    "\n",
    "# Function to extract relevant information\n",
    "def extract_information(text):\n",
    "    doc = nlp(text)\n",
    "    food_name = \"\"\n",
    "    packaged_date = \"\"\n",
    "    expiry_date = \"\"\n",
    "    for ent in doc.ents:\n",
    "        if ent.label_ == \"DATE\":\n",
    "            if \"pack\" in text.lower():\n",
    "                packaged_date = ent.text\n",
    "            elif \"best before\" in text.lower() or \"use by\" in text.lower():\n",
    "                expiry_date = ent.text\n",
    "        elif ent.label_ == \"PRODUCT\":\n",
    "            food_name = ent.text\n",
    "    return food_name, packaged_date, expiry_date\n",
    "\n",
    "# Read the CSV file\n",
    "with open(\"label_data/label_text_Adrian.csv\", mode='r', encoding='utf-8') as file:\n",
    "    csv_reader = csv.reader(file)\n",
    "    with open(\"extracted_info.csv\", mode='w', newline='', encoding='utf-8') as output_file:\n",
    "        csv_writer = csv.writer(output_file)\n",
    "        csv_writer.writerow([\"Food Name\", \"Packaged Date\", \"Expiry Date\"])\n",
    "        for row in csv_reader:\n",
    "            text = row[0]\n",
    "            food_name, packaged_date, expiry_date = extract_information(text)\n",
    "            csv_writer.writerow([food_name, packaged_date, expiry_date])\n",
    "\n",
    "print(\"Information extraction completed.\")"
   ]
  },
  {
   "cell_type": "code",
   "execution_count": 66,
   "metadata": {},
   "outputs": [
    {
     "name": "stdout",
     "output_type": "stream",
     "text": [
      "Keep Frozen Product of Australia Beef Burger Bulk Pack Net Wt 13.63 kg 13.63 KG Pkg On 14 May 2024 Best Before 14 May 2025 Top Cut Foods Pty Ltd 101265 Boneless Beef NL Allergens\n",
      "14 May 2024\n",
      "DATE\n"
     ]
    },
    {
     "data": {
      "text/plain": [
       "True"
      ]
     },
     "execution_count": 66,
     "metadata": {},
     "output_type": "execute_result"
    }
   ],
   "source": [
    "file_path = \"label_data/label_text_Adrian.csv\"\n",
    "df = pd.read_csv(file_path, header = None)\n",
    "\n",
    "i = 4\n",
    "doc = nlp(df[0][1])\n",
    "print(doc)\n",
    "print(doc.ents[i])\n",
    "print(doc.ents[i].label_)\n",
    "doc.ents[i].label_ == \"DATE\""
   ]
  },
  {
   "cell_type": "code",
   "execution_count": 52,
   "metadata": {},
   "outputs": [
    {
     "data": {
      "text/html": [
       "<div>\n",
       "<style scoped>\n",
       "    .dataframe tbody tr th:only-of-type {\n",
       "        vertical-align: middle;\n",
       "    }\n",
       "\n",
       "    .dataframe tbody tr th {\n",
       "        vertical-align: top;\n",
       "    }\n",
       "\n",
       "    .dataframe thead th {\n",
       "        text-align: right;\n",
       "    }\n",
       "</style>\n",
       "<table border=\"1\" class=\"dataframe\">\n",
       "  <thead>\n",
       "    <tr style=\"text-align: right;\">\n",
       "      <th></th>\n",
       "      <th>Food Name</th>\n",
       "      <th>Packaged Date</th>\n",
       "      <th>Expiry Date</th>\n",
       "    </tr>\n",
       "  </thead>\n",
       "  <tbody>\n",
       "    <tr>\n",
       "      <th>0</th>\n",
       "      <td>NaN</td>\n",
       "      <td>NaN</td>\n",
       "      <td>NaN</td>\n",
       "    </tr>\n",
       "    <tr>\n",
       "      <th>1</th>\n",
       "      <td>NaN</td>\n",
       "      <td>14 May 2025</td>\n",
       "      <td>NaN</td>\n",
       "    </tr>\n",
       "    <tr>\n",
       "      <th>2</th>\n",
       "      <td>NaN</td>\n",
       "      <td>NaN</td>\n",
       "      <td>3</td>\n",
       "    </tr>\n",
       "    <tr>\n",
       "      <th>3</th>\n",
       "      <td>NaN</td>\n",
       "      <td>NaN</td>\n",
       "      <td>NaN</td>\n",
       "    </tr>\n",
       "    <tr>\n",
       "      <th>4</th>\n",
       "      <td>NaN</td>\n",
       "      <td>NaN</td>\n",
       "      <td>72361</td>\n",
       "    </tr>\n",
       "  </tbody>\n",
       "</table>\n",
       "</div>"
      ],
      "text/plain": [
       "  Food Name Packaged Date Expiry Date\n",
       "0       NaN           NaN         NaN\n",
       "1       NaN   14 May 2025         NaN\n",
       "2       NaN           NaN           3\n",
       "3       NaN           NaN         NaN\n",
       "4       NaN           NaN       72361"
      ]
     },
     "execution_count": 52,
     "metadata": {},
     "output_type": "execute_result"
    }
   ],
   "source": [
    "extracted_data = pd.read_csv(\"extracted_info.csv\")\n",
    "extracted_data.head()"
   ]
  },
  {
   "cell_type": "code",
   "execution_count": 78,
   "metadata": {},
   "outputs": [
    {
     "name": "stdout",
     "output_type": "stream",
     "text": [
      "Example Text: Keep Frozen Product of Australia Beef Burger Bulk Pack Net Wt 13.63 kg 13.63 KG Pkg On 14 May 2024 Best Before 14 May 2025 Top Cut Foods Pty Ltd 101265 Boneless Beef NL Allergens\n",
      "Food Name: KG Pkg\n",
      "Packaged Date: 14 May 2024\n",
      "Expiry Date: 14 May 2025\n"
     ]
    }
   ],
   "source": [
    "import spacy\n",
    "\n",
    "# Load the SpaCy model\n",
    "nlp = spacy.load(\"en_core_web_sm\")\n",
    "\n",
    "text = \"Keep Frozen Product of Australia Beef Burger Bulk Pack Net Wt 13.63 kg 13.63 KG Pkg On 14 May 2024 Best Before 14 May 2025 Top Cut Foods Pty Ltd 101265 Boneless Beef NL Allergens\"\n",
    "\n",
    "doc = nlp(text)\n",
    "food_name = \"\"\n",
    "packaged_date = \"\"\n",
    "expiry_date = \"\"\n",
    "\n",
    "for ent in doc.ents:\n",
    "    #print(f\"{ent}, {ent.label_}\")\n",
    "    if ent.label_ == \"DATE\":\n",
    "        start = ent.start\n",
    "        end = ent.end\n",
    "        \n",
    "        # Get the tokens before and after the DATE entity\n",
    "        before_ent = doc[start-3:start]\n",
    "        after_ent = doc[end:end+3]\n",
    "        \n",
    "        # Check the context around the DATE entity\n",
    "        context = before_ent.text.lower() + \" \" + after_ent.text.lower()\n",
    "\n",
    "        # Define the phrases to look for\n",
    "        packaging_phrases = [\"packed\", \"pkg on\", \"packaged on\"]\n",
    "        expiry_phrases = [\"best before\", \"use by\"]\n",
    "\n",
    "        if any(phrase in context for phrase in packaging_phrases):\n",
    "            packaged_date = ent.text\n",
    "        elif any(phrase in context for phrase in expiry_phrases):\n",
    "            expiry_date = ent.text\n",
    "    elif ent.label_ == \"PERSON\":\n",
    "        food_name = ent.text\n",
    "\n",
    "print(f\"Example Text: {text}\")\n",
    "print(f\"Food Name: {food_name}\")\n",
    "print(f\"Packaged Date: {packaged_date}\")\n",
    "print(f\"Expiry Date: {expiry_date}\")"
   ]
  },
  {
   "cell_type": "code",
   "execution_count": null,
   "metadata": {},
   "outputs": [],
   "source": []
  }
 ],
 "metadata": {
  "kernelspec": {
   "display_name": "Python 3",
   "language": "python",
   "name": "python3"
  },
  "language_info": {
   "codemirror_mode": {
    "name": "ipython",
    "version": 3
   },
   "file_extension": ".py",
   "mimetype": "text/x-python",
   "name": "python",
   "nbconvert_exporter": "python",
   "pygments_lexer": "ipython3",
   "version": "3.9.7"
  }
 },
 "nbformat": 4,
 "nbformat_minor": 2
}
